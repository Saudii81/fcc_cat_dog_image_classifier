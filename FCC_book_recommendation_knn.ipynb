{
  "cells": [
    {
      "cell_type": "markdown",
      "metadata": {
        "id": "view-in-github",
        "colab_type": "text"
      },
      "source": [
        "<a href=\"https://colab.research.google.com/github/Saudii81/fcc_cat_dog_image_classifier/blob/main/FCC_book_recommendation_knn.ipynb\" target=\"_parent\"><img src=\"https://colab.research.google.com/assets/colab-badge.svg\" alt=\"Open In Colab\"/></a>"
      ]
    },
    {
      "cell_type": "code",
      "execution_count": null,
      "metadata": {
        "id": "Y1onB6kUvo4Z"
      },
      "outputs": [],
      "source": [
        "# import libraries (you may add additional imports but you may not have to)\n",
        "import numpy as np\n",
        "import pandas as pd\n",
        "from scipy.sparse import csr_matrix\n",
        "from sklearn.neighbors import NearestNeighbors\n",
        "import matplotlib.pyplot as plt"
      ]
    },
    {
      "cell_type": "code",
      "execution_count": null,
      "metadata": {
        "id": "iAQGqqO_vo4d",
        "colab": {
          "base_uri": "https://localhost:8080/"
        },
        "outputId": "96ad9f03-ebcb-4825-daca-e675fdbe5837"
      },
      "outputs": [
        {
          "output_type": "stream",
          "name": "stdout",
          "text": [
            "--2025-09-25 11:45:37--  https://cdn.freecodecamp.org/project-data/books/book-crossings.zip\n",
            "Resolving cdn.freecodecamp.org (cdn.freecodecamp.org)... 104.26.3.33, 172.67.70.149, 104.26.2.33, ...\n",
            "Connecting to cdn.freecodecamp.org (cdn.freecodecamp.org)|104.26.3.33|:443... connected.\n",
            "HTTP request sent, awaiting response... 200 OK\n",
            "Length: 26085508 (25M) [application/zip]\n",
            "Saving to: ‘book-crossings.zip’\n",
            "\n",
            "book-crossings.zip  100%[===================>]  24.88M  32.6MB/s    in 0.8s    \n",
            "\n",
            "2025-09-25 11:45:39 (32.6 MB/s) - ‘book-crossings.zip’ saved [26085508/26085508]\n",
            "\n",
            "Archive:  book-crossings.zip\n",
            "  inflating: BX-Book-Ratings.csv     \n",
            "  inflating: BX-Books.csv            \n",
            "  inflating: BX-Users.csv            \n"
          ]
        }
      ],
      "source": [
        "# get data files\n",
        "!wget https://cdn.freecodecamp.org/project-data/books/book-crossings.zip\n",
        "\n",
        "!unzip book-crossings.zip\n",
        "\n",
        "books_filename = 'BX-Books.csv'\n",
        "ratings_filename = 'BX-Book-Ratings.csv'"
      ]
    },
    {
      "cell_type": "code",
      "execution_count": null,
      "metadata": {
        "id": "NClILWOiEd6Q"
      },
      "outputs": [],
      "source": [
        "# import csv data into dataframes\n",
        "df_books = pd.read_csv(\n",
        "    books_filename,\n",
        "    encoding = \"ISO-8859-1\",\n",
        "    sep=\";\",\n",
        "    header=0,\n",
        "    names=['isbn', 'title', 'author'],\n",
        "    usecols=['isbn', 'title', 'author'],\n",
        "    dtype={'isbn': 'str', 'title': 'str', 'author': 'str'})\n",
        "\n",
        "df_ratings = pd.read_csv(\n",
        "    ratings_filename,\n",
        "    encoding = \"ISO-8859-1\",\n",
        "    sep=\";\",\n",
        "    header=0,\n",
        "    names=['user', 'isbn', 'rating'],\n",
        "    usecols=['user', 'isbn', 'rating'],\n",
        "    dtype={'user': 'int32', 'isbn': 'str', 'rating': 'float32'})"
      ]
    },
    {
      "cell_type": "code",
      "execution_count": null,
      "metadata": {
        "id": "xAcXjkCFCh0A"
      },
      "outputs": [],
      "source": [
        "# add your code here - consider creating a new cell for each section of code\n",
        "# Step 1: Filter users with >=200 ratings and books with >=100 ratings\n",
        "user_counts = df_ratings['user'].value_counts()\n",
        "book_counts = df_ratings['isbn'].value_counts()\n",
        "\n",
        "df_ratings_filtered = df_ratings[\n",
        "    df_ratings['user'].isin(user_counts[user_counts >= 200].index)\n",
        "]\n",
        "df_ratings_filtered = df_ratings_filtered[\n",
        "    df_ratings_filtered['isbn'].isin(book_counts[book_counts >= 100].index)\n",
        "]\n",
        "\n",
        "# Step 2: Create user-item matrix (sparse for efficiency)\n",
        "user_item_matrix = df_ratings_filtered.pivot_table(\n",
        "    index='user', columns='isbn', values='rating'\n",
        ").fillna(0)\n",
        "\n",
        "sparse_matrix = csr_matrix(user_item_matrix.values)\n",
        "\n",
        "# Step 3: Train Nearest Neighbors model\n",
        "model = NearestNeighbors(metric='cosine', algorithm='brute')\n",
        "model.fit(sparse_matrix.T)\n",
        "\n",
        "# Step 4: ISBN ↔ Title mappings\n",
        "isbn_to_title = df_books.set_index('isbn')['title'].to_dict()\n",
        "title_to_isbn = {v: k for k, v in isbn_to_title.items()}\n",
        "\n",
        "# Step 5: Define recommendation function\n",
        "def get_recommends(book=\"\"):\n",
        "    if book not in title_to_isbn:\n",
        "        return [book, []]\n",
        "\n",
        "    isbn = title_to_isbn[book]\n",
        "    if isbn not in user_item_matrix.columns:\n",
        "        return [book, []]\n",
        "\n",
        "    book_vector = user_item_matrix[isbn].values.reshape(1, -1)\n",
        "    distances, indices = model.kneighbors(book_vector, n_neighbors=6)\n",
        "\n",
        "    recs = []\n",
        "    for dist, idx in zip(distances.flatten()[1:], indices.flatten()[1:]):\n",
        "        rec_isbn = user_item_matrix.columns[idx]\n",
        "        rec_title = isbn_to_title.get(rec_isbn, \"Unknown\")\n",
        "        recs.append([rec_title, float(dist)])\n",
        "\n",
        "    return [book, recs]\n"
      ]
    },
    {
      "cell_type": "code",
      "execution_count": null,
      "metadata": {
        "id": "f5ZUd-L1SQz7"
      },
      "outputs": [],
      "source": [
        "# function to return recommended books - this will be tested\n",
        "def get_recommends(book=\"\"):\n",
        "    if book not in title_to_isbn:\n",
        "        return [book, []]\n",
        "\n",
        "    isbn = title_to_isbn[book]\n",
        "    if isbn not in user_item_matrix.columns:\n",
        "        return [book, []]\n",
        "\n",
        "    book_vector = user_item_matrix[isbn].values.reshape(1, -1)\n",
        "    distances, indices = model.kneighbors(book_vector, n_neighbors=6)\n",
        "\n",
        "    recs = []\n",
        "    for dist, idx in zip(distances.flatten()[1:], indices.flatten()[1:]):\n",
        "        rec_isbn = user_item_matrix.columns[idx]\n",
        "        rec_title = isbn_to_title.get(rec_isbn, \"Unknown\")\n",
        "        recs.append([rec_title, float(dist)])\n",
        "\n",
        "    return [book, recs]\n"
      ]
    },
    {
      "cell_type": "code",
      "execution_count": null,
      "metadata": {
        "id": "jd2SLCh8oxMh",
        "colab": {
          "base_uri": "https://localhost:8080/"
        },
        "outputId": "78a815b7-e9de-4949-a0d0-7c3fefb88e2a"
      },
      "outputs": [
        {
          "output_type": "stream",
          "name": "stdout",
          "text": [
            "[\"Where the Heart Is (Oprah's Book Club (Paperback))\", [['The Lovely Bones: A Novel', 0.7234864234924316], ['I Know This Much Is True', 0.7677075266838074], ['The Surgeon', 0.7699410915374756], ['The Weight of Water', 0.7708583474159241], [\"I'll Be Seeing You\", 0.8016210794448853]]]\n",
            "You haven't passed yet. Keep trying!\n"
          ]
        }
      ],
      "source": [
        "books = get_recommends(\"Where the Heart Is (Oprah's Book Club (Paperback))\")\n",
        "print(books)\n",
        "\n",
        "def test_book_recommendation():\n",
        "  test_pass = True\n",
        "  recommends = get_recommends(\"Where the Heart Is (Oprah's Book Club (Paperback))\")\n",
        "  if recommends[0] != \"Where the Heart Is (Oprah's Book Club (Paperback))\":\n",
        "    test_pass = False\n",
        "  recommended_books = [\"I'll Be Seeing You\", 'The Weight of Water', 'The Surgeon', 'I Know This Much Is True']\n",
        "  recommended_books_dist = [0.8, 0.77, 0.77, 0.77]\n",
        "  for i in range(2):\n",
        "    if recommends[1][i][0] not in recommended_books:\n",
        "      test_pass = False\n",
        "    if abs(recommends[1][i][1] - recommended_books_dist[i]) >= 0.05:\n",
        "      test_pass = False\n",
        "  if test_pass:\n",
        "    print(\"You passed the challenge! 🎉🎉🎉🎉🎉\")\n",
        "  else:\n",
        "    print(\"You haven't passed yet. Keep trying!\")\n",
        "\n",
        "test_book_recommendation()"
      ]
    }
  ],
  "metadata": {
    "colab": {
      "provenance": [],
      "gpuType": "T4",
      "include_colab_link": true
    },
    "kernelspec": {
      "display_name": "Python 3",
      "name": "python3"
    },
    "language_info": {
      "codemirror_mode": {
        "name": "ipython",
        "version": 3
      },
      "file_extension": ".py",
      "mimetype": "text/x-python",
      "name": "python",
      "nbconvert_exporter": "python",
      "pygments_lexer": "ipython3",
      "version": "3.6.5"
    },
    "accelerator": "GPU"
  },
  "nbformat": 4,
  "nbformat_minor": 0
}